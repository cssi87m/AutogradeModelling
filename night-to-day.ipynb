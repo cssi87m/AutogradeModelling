{
 "cells": [
  {
   "cell_type": "code",
   "execution_count": 7,
   "metadata": {},
   "outputs": [
    {
     "name": "stdout",
     "output_type": "stream",
     "text": [
      "Requirement already satisfied: torch in /home/quangminh/anaconda3/envs/SOICTHackathon/lib/python3.12/site-packages (2.5.0)\n",
      "Requirement already satisfied: filelock in /home/quangminh/anaconda3/envs/SOICTHackathon/lib/python3.12/site-packages (from torch) (3.16.1)\n",
      "Requirement already satisfied: typing-extensions>=4.8.0 in /home/quangminh/anaconda3/envs/SOICTHackathon/lib/python3.12/site-packages (from torch) (4.12.2)\n",
      "Requirement already satisfied: networkx in /home/quangminh/anaconda3/envs/SOICTHackathon/lib/python3.12/site-packages (from torch) (3.4.1)\n",
      "Requirement already satisfied: jinja2 in /home/quangminh/anaconda3/envs/SOICTHackathon/lib/python3.12/site-packages (from torch) (3.1.4)\n",
      "Requirement already satisfied: fsspec in /home/quangminh/anaconda3/envs/SOICTHackathon/lib/python3.12/site-packages (from torch) (2024.9.0)\n",
      "Requirement already satisfied: nvidia-cuda-nvrtc-cu12==12.4.127 in /home/quangminh/anaconda3/envs/SOICTHackathon/lib/python3.12/site-packages (from torch) (12.4.127)\n",
      "Requirement already satisfied: nvidia-cuda-runtime-cu12==12.4.127 in /home/quangminh/anaconda3/envs/SOICTHackathon/lib/python3.12/site-packages (from torch) (12.4.127)\n",
      "Requirement already satisfied: nvidia-cuda-cupti-cu12==12.4.127 in /home/quangminh/anaconda3/envs/SOICTHackathon/lib/python3.12/site-packages (from torch) (12.4.127)\n",
      "Requirement already satisfied: nvidia-cudnn-cu12==9.1.0.70 in /home/quangminh/anaconda3/envs/SOICTHackathon/lib/python3.12/site-packages (from torch) (9.1.0.70)\n",
      "Requirement already satisfied: nvidia-cublas-cu12==12.4.5.8 in /home/quangminh/anaconda3/envs/SOICTHackathon/lib/python3.12/site-packages (from torch) (12.4.5.8)\n",
      "Requirement already satisfied: nvidia-cufft-cu12==11.2.1.3 in /home/quangminh/anaconda3/envs/SOICTHackathon/lib/python3.12/site-packages (from torch) (11.2.1.3)\n",
      "Requirement already satisfied: nvidia-curand-cu12==10.3.5.147 in /home/quangminh/anaconda3/envs/SOICTHackathon/lib/python3.12/site-packages (from torch) (10.3.5.147)\n",
      "Requirement already satisfied: nvidia-cusolver-cu12==11.6.1.9 in /home/quangminh/anaconda3/envs/SOICTHackathon/lib/python3.12/site-packages (from torch) (11.6.1.9)\n",
      "Requirement already satisfied: nvidia-cusparse-cu12==12.3.1.170 in /home/quangminh/anaconda3/envs/SOICTHackathon/lib/python3.12/site-packages (from torch) (12.3.1.170)\n",
      "Requirement already satisfied: nvidia-nccl-cu12==2.21.5 in /home/quangminh/anaconda3/envs/SOICTHackathon/lib/python3.12/site-packages (from torch) (2.21.5)\n",
      "Requirement already satisfied: nvidia-nvtx-cu12==12.4.127 in /home/quangminh/anaconda3/envs/SOICTHackathon/lib/python3.12/site-packages (from torch) (12.4.127)\n",
      "Requirement already satisfied: nvidia-nvjitlink-cu12==12.4.127 in /home/quangminh/anaconda3/envs/SOICTHackathon/lib/python3.12/site-packages (from torch) (12.4.127)\n",
      "Requirement already satisfied: triton==3.1.0 in /home/quangminh/anaconda3/envs/SOICTHackathon/lib/python3.12/site-packages (from torch) (3.1.0)\n",
      "Requirement already satisfied: setuptools in /home/quangminh/anaconda3/envs/SOICTHackathon/lib/python3.12/site-packages (from torch) (75.1.0)\n",
      "Requirement already satisfied: sympy==1.13.1 in /home/quangminh/anaconda3/envs/SOICTHackathon/lib/python3.12/site-packages (from torch) (1.13.1)\n",
      "Requirement already satisfied: mpmath<1.4,>=1.1.0 in /home/quangminh/anaconda3/envs/SOICTHackathon/lib/python3.12/site-packages (from sympy==1.13.1->torch) (1.3.0)\n",
      "Requirement already satisfied: MarkupSafe>=2.0 in /home/quangminh/anaconda3/envs/SOICTHackathon/lib/python3.12/site-packages (from jinja2->torch) (3.0.2)\n",
      "Requirement already satisfied: torchvision in /home/quangminh/anaconda3/envs/SOICTHackathon/lib/python3.12/site-packages (0.20.0)\n",
      "Requirement already satisfied: numpy in /home/quangminh/anaconda3/envs/SOICTHackathon/lib/python3.12/site-packages (from torchvision) (2.1.2)\n",
      "Requirement already satisfied: torch==2.5.0 in /home/quangminh/anaconda3/envs/SOICTHackathon/lib/python3.12/site-packages (from torchvision) (2.5.0)\n",
      "Requirement already satisfied: pillow!=8.3.*,>=5.3.0 in /home/quangminh/anaconda3/envs/SOICTHackathon/lib/python3.12/site-packages (from torchvision) (11.0.0)\n",
      "Requirement already satisfied: filelock in /home/quangminh/anaconda3/envs/SOICTHackathon/lib/python3.12/site-packages (from torch==2.5.0->torchvision) (3.16.1)\n",
      "Requirement already satisfied: typing-extensions>=4.8.0 in /home/quangminh/anaconda3/envs/SOICTHackathon/lib/python3.12/site-packages (from torch==2.5.0->torchvision) (4.12.2)\n",
      "Requirement already satisfied: networkx in /home/quangminh/anaconda3/envs/SOICTHackathon/lib/python3.12/site-packages (from torch==2.5.0->torchvision) (3.4.1)\n",
      "Requirement already satisfied: jinja2 in /home/quangminh/anaconda3/envs/SOICTHackathon/lib/python3.12/site-packages (from torch==2.5.0->torchvision) (3.1.4)\n",
      "Requirement already satisfied: fsspec in /home/quangminh/anaconda3/envs/SOICTHackathon/lib/python3.12/site-packages (from torch==2.5.0->torchvision) (2024.9.0)\n",
      "Requirement already satisfied: nvidia-cuda-nvrtc-cu12==12.4.127 in /home/quangminh/anaconda3/envs/SOICTHackathon/lib/python3.12/site-packages (from torch==2.5.0->torchvision) (12.4.127)\n",
      "Requirement already satisfied: nvidia-cuda-runtime-cu12==12.4.127 in /home/quangminh/anaconda3/envs/SOICTHackathon/lib/python3.12/site-packages (from torch==2.5.0->torchvision) (12.4.127)\n",
      "Requirement already satisfied: nvidia-cuda-cupti-cu12==12.4.127 in /home/quangminh/anaconda3/envs/SOICTHackathon/lib/python3.12/site-packages (from torch==2.5.0->torchvision) (12.4.127)\n",
      "Requirement already satisfied: nvidia-cudnn-cu12==9.1.0.70 in /home/quangminh/anaconda3/envs/SOICTHackathon/lib/python3.12/site-packages (from torch==2.5.0->torchvision) (9.1.0.70)\n",
      "Requirement already satisfied: nvidia-cublas-cu12==12.4.5.8 in /home/quangminh/anaconda3/envs/SOICTHackathon/lib/python3.12/site-packages (from torch==2.5.0->torchvision) (12.4.5.8)\n",
      "Requirement already satisfied: nvidia-cufft-cu12==11.2.1.3 in /home/quangminh/anaconda3/envs/SOICTHackathon/lib/python3.12/site-packages (from torch==2.5.0->torchvision) (11.2.1.3)\n",
      "Requirement already satisfied: nvidia-curand-cu12==10.3.5.147 in /home/quangminh/anaconda3/envs/SOICTHackathon/lib/python3.12/site-packages (from torch==2.5.0->torchvision) (10.3.5.147)\n",
      "Requirement already satisfied: nvidia-cusolver-cu12==11.6.1.9 in /home/quangminh/anaconda3/envs/SOICTHackathon/lib/python3.12/site-packages (from torch==2.5.0->torchvision) (11.6.1.9)\n",
      "Requirement already satisfied: nvidia-cusparse-cu12==12.3.1.170 in /home/quangminh/anaconda3/envs/SOICTHackathon/lib/python3.12/site-packages (from torch==2.5.0->torchvision) (12.3.1.170)\n",
      "Requirement already satisfied: nvidia-nccl-cu12==2.21.5 in /home/quangminh/anaconda3/envs/SOICTHackathon/lib/python3.12/site-packages (from torch==2.5.0->torchvision) (2.21.5)\n",
      "Requirement already satisfied: nvidia-nvtx-cu12==12.4.127 in /home/quangminh/anaconda3/envs/SOICTHackathon/lib/python3.12/site-packages (from torch==2.5.0->torchvision) (12.4.127)\n",
      "Requirement already satisfied: nvidia-nvjitlink-cu12==12.4.127 in /home/quangminh/anaconda3/envs/SOICTHackathon/lib/python3.12/site-packages (from torch==2.5.0->torchvision) (12.4.127)\n",
      "Requirement already satisfied: triton==3.1.0 in /home/quangminh/anaconda3/envs/SOICTHackathon/lib/python3.12/site-packages (from torch==2.5.0->torchvision) (3.1.0)\n",
      "Requirement already satisfied: setuptools in /home/quangminh/anaconda3/envs/SOICTHackathon/lib/python3.12/site-packages (from torch==2.5.0->torchvision) (75.1.0)\n",
      "Requirement already satisfied: sympy==1.13.1 in /home/quangminh/anaconda3/envs/SOICTHackathon/lib/python3.12/site-packages (from torch==2.5.0->torchvision) (1.13.1)\n",
      "Requirement already satisfied: mpmath<1.4,>=1.1.0 in /home/quangminh/anaconda3/envs/SOICTHackathon/lib/python3.12/site-packages (from sympy==1.13.1->torch==2.5.0->torchvision) (1.3.0)\n",
      "Requirement already satisfied: MarkupSafe>=2.0 in /home/quangminh/anaconda3/envs/SOICTHackathon/lib/python3.12/site-packages (from jinja2->torch==2.5.0->torchvision) (3.0.2)\n",
      "Requirement already satisfied: visdom in /home/quangminh/anaconda3/envs/SOICTHackathon/lib/python3.12/site-packages (0.2.4)\n",
      "Requirement already satisfied: numpy>=1.8 in /home/quangminh/anaconda3/envs/SOICTHackathon/lib/python3.12/site-packages (from visdom) (2.1.2)\n",
      "Requirement already satisfied: scipy in /home/quangminh/anaconda3/envs/SOICTHackathon/lib/python3.12/site-packages (from visdom) (1.14.1)\n",
      "Requirement already satisfied: requests in /home/quangminh/anaconda3/envs/SOICTHackathon/lib/python3.12/site-packages (from visdom) (2.32.3)\n",
      "Requirement already satisfied: tornado in /home/quangminh/anaconda3/envs/SOICTHackathon/lib/python3.12/site-packages (from visdom) (6.4.1)\n",
      "Requirement already satisfied: six in /home/quangminh/anaconda3/envs/SOICTHackathon/lib/python3.12/site-packages (from visdom) (1.16.0)\n",
      "Requirement already satisfied: jsonpatch in /home/quangminh/anaconda3/envs/SOICTHackathon/lib/python3.12/site-packages (from visdom) (1.33)\n",
      "Requirement already satisfied: websocket-client in /home/quangminh/anaconda3/envs/SOICTHackathon/lib/python3.12/site-packages (from visdom) (1.8.0)\n",
      "Requirement already satisfied: networkx in /home/quangminh/anaconda3/envs/SOICTHackathon/lib/python3.12/site-packages (from visdom) (3.4.1)\n",
      "Requirement already satisfied: pillow in /home/quangminh/anaconda3/envs/SOICTHackathon/lib/python3.12/site-packages (from visdom) (11.0.0)\n",
      "Requirement already satisfied: jsonpointer>=1.9 in /home/quangminh/anaconda3/envs/SOICTHackathon/lib/python3.12/site-packages (from jsonpatch->visdom) (3.0.0)\n",
      "Requirement already satisfied: charset-normalizer<4,>=2 in /home/quangminh/anaconda3/envs/SOICTHackathon/lib/python3.12/site-packages (from requests->visdom) (3.4.0)\n",
      "Requirement already satisfied: idna<4,>=2.5 in /home/quangminh/anaconda3/envs/SOICTHackathon/lib/python3.12/site-packages (from requests->visdom) (3.10)\n",
      "Requirement already satisfied: urllib3<3,>=1.21.1 in /home/quangminh/anaconda3/envs/SOICTHackathon/lib/python3.12/site-packages (from requests->visdom) (2.2.3)\n",
      "Requirement already satisfied: certifi>=2017.4.17 in /home/quangminh/anaconda3/envs/SOICTHackathon/lib/python3.12/site-packages (from requests->visdom) (2024.8.30)\n",
      "Requirement already satisfied: dominate in /home/quangminh/anaconda3/envs/SOICTHackathon/lib/python3.12/site-packages (2.9.1)\n"
     ]
    }
   ],
   "source": [
    "!pip install torch\n",
    "!pip install torchvision\n",
    "!pip install visdom\n",
    "!pip install dominate"
   ]
  },
  {
   "cell_type": "code",
   "execution_count": 25,
   "metadata": {},
   "outputs": [
    {
     "name": "stdout",
     "output_type": "stream",
     "text": [
      "Cloning into 'ToDayGAN'...\n",
      "remote: Enumerating objects: 878, done.\u001b[K\n",
      "remote: Counting objects: 100% (5/5), done.\u001b[K\n",
      "remote: Compressing objects: 100% (5/5), done.\u001b[K\n",
      "remote: Total 878 (delta 0), reused 3 (delta 0), pack-reused 873 (from 1)\u001b[K\n",
      "Receiving objects: 100% (878/878), 15.79 MiB | 822.00 KiB/s, done.\n",
      "Resolving deltas: 100% (579/579), done.\n"
     ]
    }
   ],
   "source": [
    "!git clone https://github.com/AAnoosheh/ToDayGAN.git ToDayGAN"
   ]
  },
  {
   "cell_type": "code",
   "execution_count": 22,
   "metadata": {},
   "outputs": [
    {
     "name": "stdout",
     "output_type": "stream",
     "text": [
      "[Errno 2] No such file or directory: 'ToDayGAN'\n",
      "/home/quangminh/Documents/code/Python\n"
     ]
    }
   ],
   "source": [
    "%cd ToDayGAN"
   ]
  },
  {
   "cell_type": "markdown",
   "metadata": {},
   "source": [
    "### Pretrained model"
   ]
  },
  {
   "cell_type": "code",
   "execution_count": 32,
   "metadata": {},
   "outputs": [],
   "source": [
    "import torch\n",
    "from ToDayGAN import models"
   ]
  },
  {
   "cell_type": "code",
   "execution_count": 31,
   "metadata": {},
   "outputs": [
    {
     "ename": "AttributeError",
     "evalue": "module 'ToDayGAN' has no attribute 'models'",
     "output_type": "error",
     "traceback": [
      "\u001b[0;31m---------------------------------------------------------------------------\u001b[0m",
      "\u001b[0;31mAttributeError\u001b[0m                            Traceback (most recent call last)",
      "Cell \u001b[0;32mIn[31], line 1\u001b[0m\n\u001b[0;32m----> 1\u001b[0m model \u001b[38;5;241m=\u001b[39m \u001b[43mToDayGAN\u001b[49m\u001b[38;5;241;43m.\u001b[39;49m\u001b[43mmodels\u001b[49m\u001b[38;5;241m.\u001b[39mcreate_model(\u001b[38;5;124m'\u001b[39m\u001b[38;5;124mToDayGAN\u001b[39m\u001b[38;5;124m'\u001b[39m, \u001b[38;5;124m'\u001b[39m\u001b[38;5;124mToDayGAN\u001b[39m\u001b[38;5;124m'\u001b[39m, \u001b[38;5;124m'\u001b[39m\u001b[38;5;124mlatest\u001b[39m\u001b[38;5;124m'\u001b[39m, \u001b[38;5;124m'\u001b[39m\u001b[38;5;124mcpu\u001b[39m\u001b[38;5;124m'\u001b[39m)\n",
      "\u001b[0;31mAttributeError\u001b[0m: module 'ToDayGAN' has no attribute 'models'"
     ]
    }
   ],
   "source": [
    "model = models.__loader__"
   ]
  }
 ],
 "metadata": {
  "kernelspec": {
   "display_name": "SOICTHackathon",
   "language": "python",
   "name": "python3"
  },
  "language_info": {
   "codemirror_mode": {
    "name": "ipython",
    "version": 3
   },
   "file_extension": ".py",
   "mimetype": "text/x-python",
   "name": "python",
   "nbconvert_exporter": "python",
   "pygments_lexer": "ipython3",
   "version": "3.12.0"
  }
 },
 "nbformat": 4,
 "nbformat_minor": 2
}
