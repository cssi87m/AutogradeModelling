{
 "cells": [
  {
   "cell_type": "code",
   "execution_count": 2,
   "metadata": {},
   "outputs": [],
   "source": [
    "import os \n",
    "import yaml\n",
    "from tqdm.notebook import tqdm_notebook as tqdm\n"
   ]
  },
  {
   "cell_type": "code",
   "execution_count": 3,
   "metadata": {},
   "outputs": [
    {
     "data": {
      "application/vnd.jupyter.widget-view+json": {
       "model_id": "22d7f5f5adcd465697716d48131909b4",
       "version_major": 2,
       "version_minor": 0
      },
      "text/plain": [
       "0it [00:00, ?it/s]"
      ]
     },
     "metadata": {},
     "output_type": "display_data"
    },
    {
     "data": {
      "application/vnd.jupyter.widget-view+json": {
       "model_id": "deae2e1d98764ee9ab1d4e4ce9d3f563",
       "version_major": 2,
       "version_minor": 0
      },
      "text/plain": [
       "  0%|          | 0/9258 [00:00<?, ?it/s]"
      ]
     },
     "metadata": {},
     "output_type": "display_data"
    },
    {
     "data": {
      "application/vnd.jupyter.widget-view+json": {
       "model_id": "d435584d310a46f795ce9044bbb5f867",
       "version_major": 2,
       "version_minor": 0
      },
      "text/plain": [
       "  0%|          | 0/4629 [00:00<?, ?it/s]"
      ]
     },
     "metadata": {},
     "output_type": "display_data"
    },
    {
     "data": {
      "application/vnd.jupyter.widget-view+json": {
       "model_id": "308405c0cb554a739e6c580a5dc94a94",
       "version_major": 2,
       "version_minor": 0
      },
      "text/plain": [
       "  0%|          | 0/13784 [00:00<?, ?it/s]"
      ]
     },
     "metadata": {},
     "output_type": "display_data"
    }
   ],
   "source": [
    "img_folder = 'datasets/train_20241023/images'\n",
    "label_folder = 'datasets/train_20241023/labels'\n",
    "for category in os.listdir('datasets/train_20241023'):\n",
    "    new_folder = os.path.join('datasets/train_20241023', category)\n",
    "    for file in tqdm(os.listdir(new_folder)):\n",
    "        if file.endswith('.jpg'):\n",
    "            os.rename(os.path.join(new_folder, file), os.path.join(img_folder, file))\n",
    "        else: \n",
    "            os.rename(os.path.join(new_folder, file), os.path.join(label_folder, file))"
   ]
  },
  {
   "cell_type": "code",
   "execution_count": 4,
   "metadata": {},
   "outputs": [],
   "source": [
    "from sklearn.model_selection import train_test_split\n",
    "import os\n",
    "def train_val_split(data_dir, val_size=0.1):\n",
    "    image_data_dir = os.path.join(data_dir, 'Images')\n",
    "    label_data_dir = os.path.join(data_dir, 'Labels')\n",
    "\n",
    "    img_train_dir_lst, img_val_dir_lst, label_train_dir_lst, label_val_dir_lst = train_test_split(os.listdir(image_data_dir), os.listdir(label_data_dir), test_size=val_size, random_state=42)\n",
    "    train_folder = os.path.join(data_dir, 'train')\n",
    "    \n",
    "\n",
    "    if not os.path.exists(train_folder):\n",
    "        os.makedirs(train_folder, exist_ok=True)\n",
    "    \n",
    "    for img_train_dir, label_train_dir in zip(img_train_dir_lst, label_train_dir_lst):\n",
    "        train_img_folder, train_label_folder = os.path.join(train_folder, 'Images'), os.path.join(train_folder, 'labels')\n",
    "        if not os.path.exists(train_img_folder):\n",
    "            os.makedirs(train_img_folder, exist_ok=True)\n",
    "\n",
    "        if not os.path.exists(train_label_folder):\n",
    "           os.makedirs(train_label_folder, exist_ok=True)\n",
    "\n",
    "        os.rename(os.path.join(image_data_dir, img_train_dir), os.path.join(train_img_folder, img_train_dir))\n",
    "        os.rename(os.path.join(label_data_dir, label_train_dir), os.path.join(train_label_folder, label_train_dir))\n",
    "    \n",
    "    if val_size: \n",
    "        val_folder = os.path.join(data_dir, 'validation')\n",
    "        if not os.path.exists(val_folder):\n",
    "            os.makedirs(val_folder, exist_ok=True)\n",
    "        for img_val_dir, label_val_dir in zip(img_val_dir_lst, label_val_dir_lst):\n",
    "            val_img_folder, val_label_folder = os.path.join(val_folder, 'Images'), os.path.join(val_folder, 'Labels')\n",
    "            if not os.path.exists(val_img_folder):\n",
    "                os.makedirs(val_img_folder, exist_ok=True)\n",
    "\n",
    "            if not os.path.exists(val_label_folder):\n",
    "                os.makedirs(val_label_folder, exist_ok=True)\n",
    "\n",
    "            os.rename(os.path.join(image_data_dir, img_val_dir), os.path.join(val_img_folder, img_val_dir))\n",
    "            os.rename(os.path.join(label_data_dir, label_val_dir), os.path.join(val_label_folder, label_val_dir))\n",
    "\n",
    "train_val_split('datasets/train_20241023', val_size=0.1)"
   ]
  },
  {
   "cell_type": "code",
   "execution_count": 5,
   "metadata": {},
   "outputs": [
    {
     "name": "stdout",
     "output_type": "stream",
     "text": [
      "1153\n"
     ]
    }
   ],
   "source": [
    "test_folder = 'datasets/train_20241023/validation/labels'\n",
    "print(len(os.listdir(test_folder)))"
   ]
  },
  {
   "cell_type": "code",
   "execution_count": 24,
   "metadata": {},
   "outputs": [],
   "source": [
    "from PIL import Image, ImageOps\n",
    "img = Image.open('datasets/train_20241023/train/images/cam_01_00001.jpg')\n",
    "img = ImageOps.grayscale(img)"
   ]
  }
 ],
 "metadata": {
  "kernelspec": {
   "display_name": "SOICTHackathon",
   "language": "python",
   "name": "python3"
  },
  "language_info": {
   "codemirror_mode": {
    "name": "ipython",
    "version": 3
   },
   "file_extension": ".py",
   "mimetype": "text/x-python",
   "name": "python",
   "nbconvert_exporter": "python",
   "pygments_lexer": "ipython3",
   "version": "3.12.0"
  }
 },
 "nbformat": 4,
 "nbformat_minor": 2
}
